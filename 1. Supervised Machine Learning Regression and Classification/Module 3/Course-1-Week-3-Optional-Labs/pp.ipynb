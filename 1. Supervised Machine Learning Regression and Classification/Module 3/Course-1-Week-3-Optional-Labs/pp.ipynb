{
 "cells": [
  {
   "cell_type": "code",
   "execution_count": 2,
   "id": "d6cece21",
   "metadata": {},
   "outputs": [],
   "source": [
    "import numpy as np\n",
    "%matplotlib widget\n",
    "import matplotlib.pyplot as plt\n",
    "from plt_overfit import overfit_example, output\n",
    "from lab_utils_common import sigmoid\n",
    "np.set_printoptions(precision=8)"
   ]
  },
  {
   "cell_type": "code",
   "execution_count": 4,
   "id": "446612d3",
   "metadata": {},
   "outputs": [],
   "source": [
    "X_tmp = np.array([[4.17022005e-01, 7.20324493e-01, 1.14374817e-04, 3.02332573e-01,\n",
    "        1.46755891e-01, 9.23385948e-02],\n",
    "       [1.86260211e-01, 3.45560727e-01, 3.96767474e-01, 5.38816734e-01,\n",
    "        4.19194514e-01, 6.85219500e-01],\n",
    "       [2.04452250e-01, 8.78117436e-01, 2.73875932e-02, 6.70467510e-01,\n",
    "        4.17304802e-01, 5.58689828e-01],\n",
    "       [1.40386939e-01, 1.98101489e-01, 8.00744569e-01, 9.68261576e-01,\n",
    "        3.13424178e-01, 6.92322616e-01],\n",
    "       [8.76389152e-01, 8.94606664e-01, 8.50442114e-02, 3.90547832e-02,\n",
    "        1.69830420e-01, 8.78142503e-01]]) # Creates a 5x6 matrix of random numbers between 0 and 1\n",
    "y_tmp = np.array([0,1,0,1,0])"
   ]
  },
  {
   "cell_type": "code",
   "execution_count": 6,
   "id": "0c9bff2e",
   "metadata": {},
   "outputs": [],
   "source": [
    "def compute_cost(x, y, w, b):\n",
    "    m = x.shape[0]\n",
    "    total_cost = 0\n",
    "\n",
    "    for i in range(m):\n",
    "        f_Wb = np.dot(x[i], w) + b\n",
    "        cost = (f_Wb-y[i])**2\n",
    "        total_cost += cost\n",
    "    total_cost = total_cost/(2*m)\n",
    "\n",
    "    return total_cost"
   ]
  },
  {
   "cell_type": "code",
   "execution_count": 7,
   "id": "c84e3d52",
   "metadata": {},
   "outputs": [],
   "source": [
    "w_tmp = np.array([-0.40165317, -0.07889237,  0.45788953,  0.03316528,  0.19187711,\n",
    "       -0.18448437])\n",
    "b_tmp = 0.5\n",
    "cost_tmp = compute_cost(X_tmp, y_tmp, w_tmp, b_tmp)"
   ]
  },
  {
   "cell_type": "code",
   "execution_count": 9,
   "id": "be0090a8",
   "metadata": {},
   "outputs": [
    {
     "data": {
      "text/plain": [
       "np.float64(0.04773095992403493)"
      ]
     },
     "execution_count": 9,
     "metadata": {},
     "output_type": "execute_result"
    }
   ],
   "source": [
    "cost_tmp"
   ]
  },
  {
   "cell_type": "code",
   "execution_count": null,
   "id": "f705dfd0",
   "metadata": {},
   "outputs": [],
   "source": []
  }
 ],
 "metadata": {
  "kernelspec": {
   "display_name": "Python 3",
   "language": "python",
   "name": "python3"
  },
  "language_info": {
   "codemirror_mode": {
    "name": "ipython",
    "version": 3
   },
   "file_extension": ".py",
   "mimetype": "text/x-python",
   "name": "python",
   "nbconvert_exporter": "python",
   "pygments_lexer": "ipython3",
   "version": "3.13.5"
  }
 },
 "nbformat": 4,
 "nbformat_minor": 5
}
